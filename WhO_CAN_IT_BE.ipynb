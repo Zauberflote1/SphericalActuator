{
  "nbformat": 4,
  "nbformat_minor": 0,
  "metadata": {
    "colab": {
      "provenance": []
    },
    "kernelspec": {
      "name": "python3",
      "display_name": "Python 3"
    },
    "language_info": {
      "name": "python"
    }
  },
  "cells": [
    {
      "cell_type": "code",
      "source": [
        "import numpy as np\n",
        "import sympy as sp\n",
        "import scipy.special as spc\n",
        "from scipy.integrate import dblquad\n",
        "\n",
        "def calculate_dn(n, mu_r, mu_m, R_b, R_r):\n",
        "    dn_T = R_r**(n+2) + (mu_m * (2*n + 1) * R_b**(n+2) * R_r**(2*n+1)) / \\\n",
        "           ((mu_r - mu_m) * n * R_b**(2*n+1) - (mu_r * n + mu_m * (n + 1)) * R_r**(2*n+1))\n",
        "    dn_perp = (mu_m - 1) * (n + 1) + (mu_m * (2*n + 1) * (mu_r * n + mu_m * (n + 1)) * R_r**(2*n+1)) / \\\n",
        "              ((mu_r - mu_m) * n * R_b**(2*n+1) - (mu_r * n + mu_m * (n + 1)) * R_r**(2*n+1))\n",
        "    dn = -dn_T / dn_perp\n",
        "    return dn\n",
        "\n",
        "#integration over a spherical surface\n",
        "def integrate_spherical(n, m, p, M0, alpha0):\n",
        "    def integrand(phi, theta):\n",
        "        #associated Legendre polynomials\n",
        "        P_nm = spc.lpmv(abs(m), n, np.cos(theta))\n",
        "        #spherical harmonic\n",
        "        Y_nm = P_nm * np.exp(1j * m * phi)\n",
        "        #M0r\n",
        "        M0r = (-1)**(p-1) * M0 * np.cos(phi - alpha0 - (2*np.pi/(2*p)) * (p-1)) * np.sin(theta)\n",
        "        #real part of the integrand\n",
        "        return np.real(M0r * Y_nm * np.sin(theta))\n",
        "\n",
        "    #integrate using scipy's dblquad\n",
        "    real_part, _ = dblquad(\n",
        "        integrand,\n",
        "        0, 2 * np.pi,  #phi limits\n",
        "        lambda phi: 0,  #theta lower bound as a function of phi\n",
        "        lambda phi: np.pi,  #theta upper bound as a function of phi\n",
        "    )\n",
        "\n",
        "    #If m>0, Im()=0; otherwise, calculate\n",
        "    imag_part = 0\n",
        "    if m < 0:\n",
        "        def integrand_imag(phi, theta):\n",
        "            P_nm = spc.lpmv(abs(m), n, np.cos(theta))\n",
        "            Y_nm = P_nm * np.exp(1j * m * phi)\n",
        "            M0r = (-1)**(p-1) * M0 * np.cos(phi - alpha0 - (2*np.pi/(2*p)) * (p-1)) * np.sin(theta)\n",
        "            return np.imag(M0r * Y_nm * np.sin(theta))\n",
        "\n",
        "        imag_part, _ = dblquad(\n",
        "            integrand_imag,\n",
        "            0, 2 * np.pi,  #phi limits\n",
        "            lambda phi: 0,  #theta lbound as a func phi\n",
        "            lambda phi: np.pi,  #theta ubound as a func phi\n",
        "        )\n",
        "\n",
        "    #complex result\n",
        "    return real_part + 1j * imag_part\n",
        "\n",
        "\n",
        "#Helper function to compute the spherical harmonics symbolically\n",
        "def Y_nm_sym(n, m, theta, phi):\n",
        "    P_nm = sp.assoc_legendre(n, m, sp.cos(theta))\n",
        "    normalization = sp.sqrt((2*n + 1)/(4*sp.pi) * sp.factorial(n - m)/sp.factorial(n + m))\n",
        "    return normalization * P_nm * sp.exp(sp.I * m * phi)"
      ],
      "metadata": {
        "id": "eAr2uwgon7sC"
      },
      "execution_count": 13,
      "outputs": []
    },
    {
      "cell_type": "code",
      "source": [
        "import sympy as sp\n",
        "import numpy as np\n",
        "import scipy.special as spc\n",
        "from scipy.integrate import dblquad\n",
        "\n",
        "#symbolic variables\n",
        "theta, phi, r = sp.symbols('theta phi r', real=True)\n",
        "mu0 = sp.symbols('mu0', real=True)\n",
        "\n",
        "#constants for test\n",
        "n_value = 4\n",
        "p_value = 8\n",
        "M0_value = 1  #magnitude of the residual magnetization vector\n",
        "alpha0_value = 0\n",
        "mu_r = 1.05  #relative permeability rotor\n",
        "mu_m = 1.0   #relative permeability medium (air gap)\n",
        "R_b = 0.1    #boundary rad in m\n",
        "R_r = 0.095  #rotor rad in m\n",
        "\n",
        "#d_n for a given n\n",
        "d_n = calculate_dn(n_value, mu_r, mu_m, R_b, R_r)\n",
        "\n",
        "#integration over a spherical surface\n",
        "C_4_4_real = integrate_spherical(n_value, 4, p_value, M0_value, alpha0_value)\n",
        "C_4_4_imag = integrate_spherical(n_value, -4, p_value, M0_value, alpha0_value)\n",
        "C_4_minus_4_real = integrate_spherical(n_value, -4, p_value, M0_value, alpha0_value)\n",
        "C_4_minus_4_imag = integrate_spherical(n_value, 4, p_value, M0_value, alpha0_value)\n",
        "\n",
        "#real and imaginary parts to form the complex coefficients\n",
        "C_4_4 = sp.re(C_4_4_real) + sp.I * sp.re(C_4_4_imag)\n",
        "C_4_minus_4 = sp.re(C_4_minus_4_real) + sp.I * sp.re(C_4_minus_4_imag)\n",
        "\n",
        "#a, b, c from C_4_4 and C_4_minus_4\n",
        "a = sp.re((C_4_4 + C_4_minus_4) / (2 * M0_value))\n",
        "b = sp.im((C_4_4 - C_4_minus_4) / (2 * M0_value))\n",
        "c = sp.Abs(C_4_4) / (M0_value * sp.sqrt(a**2 + b**2))\n",
        "\n",
        "#scalar magnetic potential Phi_i using a, b, c\n",
        "Phi_i = (C_4_4 * d_n * Y_nm_sym(4, 4, theta, phi) +\n",
        "         C_4_minus_4 * d_n * Y_nm_sym(4, -4, theta, phi)) * r**(-n_value - 1)\n",
        "\n",
        "#B_Ir\n",
        "B_Ir = -mu0 * sp.diff(Phi_i, r)\n",
        "\n",
        "#simplify\n",
        "Phi_i_simplified = sp.simplify(Phi_i)\n",
        "B_Ir_simplified = sp.simplify(B_Ir)\n",
        "\n",
        "\n",
        "print(f\"Phi_i: {Phi_i_simplified}\")\n",
        "print(f\"B_Ir: {B_Ir_simplified}\")\n",
        "\n",
        "#numerical evaluation at r=R_b, theta=pi/4, phi=pi/2 DEBBUG\n",
        "Phi_i_num = Phi_i_simplified.subs({r: R_b, theta: sp.pi/4, phi: sp.pi/2, mu0: 4 * sp.pi * 1e-7})\n",
        "B_Ir_num = B_Ir_simplified.subs({r: R_b, theta: sp.pi/4, phi: sp.pi/2, mu0: 4 * sp.pi * 1e-7})\n",
        "print(f\"Numerical Phi_i at R_b, pi/4, pi/2: {Phi_i_num.evalf()}\")\n",
        "print(f\"Numerical B_Ir at R_b, pi/4, pi/2: {B_Ir_num.evalf()}\")"
      ],
      "metadata": {
        "colab": {
          "base_uri": "https://localhost:8080/"
        },
        "id": "JeioWN2joD_4",
        "outputId": "e2181421-ae31-4e2f-a538-685222e9c84f"
      },
      "execution_count": 11,
      "outputs": [
        {
          "output_type": "stream",
          "name": "stdout",
          "text": [
            "Phi_i: 5.88491444436942e-8*sqrt(70)*(-1 - I)*sin(theta)**4*cos(4*phi)/(sqrt(pi)*r**5)\n",
            "B_Ir: -2.94245722218471e-7*sqrt(70)*mu0*(1 + I)*sin(theta)**4*cos(4*phi)/(sqrt(pi)*r**6)\n",
            "Numerical Phi_i at R_b, pi/4, pi/2: -0.00694471209033378 - 0.00694471209033378*I\n",
            "Numerical B_Ir at R_b, pi/4, pi/2: -4.36349129685776e-7 - 4.36349129685776e-7*I\n"
          ]
        }
      ]
    }
  ]
}